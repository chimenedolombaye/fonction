{
 "cells": [
  {
   "cell_type": "code",
   "execution_count": 27,
   "metadata": {},
   "outputs": [
    {
     "name": "stdout",
     "output_type": "stream",
     "text": [
      "Enter first number : 4\n",
      "Enter second number : 9\n",
      "Entrez l'opération (+, -, *, /) : -\n",
      " Le résultat est: -5\n",
      "Voulez-vous continuer à calculer avec ce résultat ? (Oui/Non) : Oui\n",
      "Enter second number : 5\n",
      "Entrez l'opération (+, -, *, /) : +\n",
      " Le résultat est: 0\n",
      "Voulez-vous continuer à calculer avec ce résultat ? (Oui/Non) : Non\n"
     ]
    }
   ],
   "source": [
    "operations = {\n",
    "    '+': lambda x, y: x + y,\n",
    "    '-': lambda x, y: x - y,\n",
    "    '*': lambda x, y: x * y,\n",
    "    '/': lambda x, y: x / y\n",
    "}\n",
    "\n",
    "\n",
    "def calculer(num1, num2, operation):\n",
    "    if operation in operations:\n",
    "        return operations[operation](num1, num2)\n",
    "    else:\n",
    "        return \"Opération non valide\"\n",
    "\n",
    "resultat = None\n",
    "\n",
    "while True:\n",
    "    # Demander à l'utilisateur les entrées\n",
    "    if resultat is None:\n",
    "        num1 = int(input(\"Enter first number : \"))\n",
    "    else:\n",
    "        num1 = resultat\n",
    "\n",
    "    num2 = int(input(\"Enter second number : \"))\n",
    "    operation = input(\"Entrez l'opération (+, -, *, /) : \")\n",
    "\n",
    "    \n",
    "    resultat = calculer(num1, num2, operation)\n",
    "    print(f\" Le résultat est: {resultat}\")\n",
    "\n",
    "    continuer = input(\"Voulez-vous continuer à calculer avec ce résultat ? (Oui/Non) : \").lower()\n",
    "    if continuer != \"oui\":\n",
    "        break\n"
   ]
  },
  {
   "cell_type": "code",
   "execution_count": null,
   "metadata": {},
   "outputs": [],
   "source": []
  },
  {
   "cell_type": "code",
   "execution_count": null,
   "metadata": {},
   "outputs": [],
   "source": []
  }
 ],
 "metadata": {
  "kernelspec": {
   "display_name": "Python 3",
   "language": "python",
   "name": "python3"
  },
  "language_info": {
   "codemirror_mode": {
    "name": "ipython",
    "version": 3
   },
   "file_extension": ".py",
   "mimetype": "text/x-python",
   "name": "python",
   "nbconvert_exporter": "python",
   "pygments_lexer": "ipython3",
   "version": "3.8.3"
  }
 },
 "nbformat": 4,
 "nbformat_minor": 4
}
